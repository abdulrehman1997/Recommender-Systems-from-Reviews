{
 "cells": [
  {
   "cell_type": "code",
   "execution_count": 2,
   "metadata": {},
   "outputs": [],
   "source": [
    "import pandas as pd\n",
    "import numpy as np\n",
    "import plotnine as p9\n",
    "import pyfpgrowth as fp\n",
    "\n",
    "import matplotlib.pyplot as plt\n",
    "%matplotlib inline\n",
    "\n",
    "import datetime\n",
    "import time"
   ]
  },
  {
   "cell_type": "code",
   "execution_count": 45,
   "metadata": {},
   "outputs": [
    {
     "name": "stdout",
     "output_type": "stream",
     "text": [
      "Frequency of unique values in the labels array:\n",
      "[[   1    2    3    4    5]\n",
      " [ 149  164  364  668 1758]]\n"
     ]
    }
   ],
   "source": [
    "# Reading the cleande CSV and meta data JSON data into python as pandas dataframe.\n",
    "\n",
    "data = pd.read_csv('/Users/abdulrehman/Desktop/usml/data/AMAZON_FASHION_clean.csv')\n",
    "meta_data = pd.read_json('/Users/abdulrehman/Desktop/usml/data/meta_AMAZON_FASHION.json',lines=True)\n",
    "\n",
    "# Converting unix time to Date format and storing it in reviewTime Column.\n",
    "\n",
    "data['reviewTime']=data.apply(lambda row: list(time.gmtime(row.unixReviewTime))[:-6], axis=1)\n",
    "data = data.sort_values('unixReviewTime')\n",
    "data['year']=data.apply(lambda row: row.reviewTime[0], axis=1)\n",
    "# print(data)\n",
    "\n",
    "unique_elements, counts_elements = np.unique(np.array(data['overall']), return_counts=True)\n",
    "print(\"Frequency of unique values in the labels array:\")\n",
    "print(np.asarray((unique_elements, counts_elements)))"
   ]
  },
  {
   "cell_type": "code",
   "execution_count": 4,
   "metadata": {},
   "outputs": [
    {
     "data": {
      "image/png": "[encoded data removed]",
      "text/plain": [
       "<Figure size 640x480 with 1 Axes>"
      ]
     },
     "metadata": {},
     "output_type": "display_data"
    },
    {
     "data": {
      "text/plain": [
       "<ggplot: (7549773217)>"
      ]
     },
     "execution_count": 4,
     "metadata": {},
     "output_type": "execute_result"
    }
   ],
   "source": [
    "# As we can see the data is recorded from 11 nov 2002 - 1 oct 2018.\n",
    "# We can plot year-wise count of reviews. \n",
    "(p9.ggplot(data=data,\n",
    "           mapping=p9.aes(x='factor(year)'))\n",
    "    + p9.geom_bar()\n",
    "    + p9.theme_bw()\n",
    "    + p9.theme(axis_text_x = p9.element_text(angle=90))\n",
    ")"
   ]
  },
  {
   "cell_type": "code",
   "execution_count": 42,
   "metadata": {},
   "outputs": [
    {
     "ename": "SyntaxError",
     "evalue": "keyword can't be an expression (<ipython-input-42-794047df04be>, line 5)",
     "output_type": "error",
     "traceback": [
      "\u001b[0;36m  File \u001b[0;32m\"<ipython-input-42-794047df04be>\"\u001b[0;36m, line \u001b[0;32m5\u001b[0m\n\u001b[0;31m    + p9.geom_bar(p9.stat = \"identity\", position = \"dodge\")\u001b[0m\n\u001b[0m                 ^\u001b[0m\n\u001b[0;31mSyntaxError\u001b[0m\u001b[0;31m:\u001b[0m keyword can't be an expression\n"
     ]
    }
   ],
   "source": [
    "# As we can see the data is recorded from 11 nov 2002 - 1 oct 2018.\n",
    "# We can plot year-wise count of reviews. \n",
    "(p9.ggplot(data=data,\n",
    "           mapping=p9.aes(fill = 'overall', x='factor(year)'))\n",
    "    + p9.geom_bar(stat = \"identity\", position = \"dodge\")\n",
    "    + p9.theme(axis_text_x = p9.element_text(angle=90))\n",
    ")"
   ]
  },
  {
   "cell_type": "code",
   "execution_count": 16,
   "metadata": {},
   "outputs": [
    {
     "name": "stderr",
     "output_type": "stream",
     "text": [
      "/Users/abdulrehman/opt/anaconda3/lib/python3.7/site-packages/plotnine/ggplot.py:729: PlotnineWarning: Saving 6.4 x 4.8 in image.\n",
      "  from_inches(height, units), units), PlotnineWarning)\n",
      "/Users/abdulrehman/opt/anaconda3/lib/python3.7/site-packages/plotnine/ggplot.py:730: PlotnineWarning: Filename: unique.png\n",
      "  warn('Filename: {}'.format(filename), PlotnineWarning)\n"
     ]
    }
   ],
   "source": [
    "# We can see that there is a rise in reviews from 2002 to 2016 then there is a decrease in reviews. \n",
    "# The 2018 data does not consider Oct, Nov and December,\n",
    "# which have major shopping periods such as thanksgiving and christmas.\n",
    "# There is still a decrease in reviews after 2016 this could be due to new competitors.\n",
    "#Now to plot the number of Unique reviewers we have to keep the value when the reviewer first reviewed a product and delete the rest.\n",
    "data_unique_reviewers = data.drop_duplicates('reviewerID',keep='first')\n",
    "# print(data_unique_reviewers)\n",
    "\n",
    "my_plot = (p9.ggplot(data=data_unique_reviewers,\n",
    "           mapping=p9.aes(x='factor(year)'))\n",
    "    + p9.geom_bar(fill='turquoise',color = 'white')\n",
    "    + p9.theme(axis_text_x = p9.element_text(angle=90))\n",
    "    + p9.labs(title='Distribution of number of Unique(new) reviewers',x='Year',y='Number of Unique Reviewers')\n",
    "    + p9.theme_dark()\n",
    ")\n",
    "my_plot.save(\"unique.png\", dpi=300)"
   ]
  },
  {
   "cell_type": "code",
   "execution_count": 7,
   "metadata": {},
   "outputs": [],
   "source": [
    "del data_unique_reviewers\n",
    "# We can see that there is a rise in the number of unique reviewers from 2002 to 2016\n",
    "# then there is a decrease in the number of unique reviewers. "
   ]
  },
  {
   "cell_type": "code",
   "execution_count": 5,
   "metadata": {},
   "outputs": [
    {
     "name": "stdout",
     "output_type": "stream",
     "text": [
      "         asin  counts                                              Title\n",
      "0  B009MA34NY      14       NIKE Women's Flex Supreme TR 4 Cross Trainer\n",
      "1  B0058YEJ5K      14       NIKE Women's Flex Supreme TR 4 Cross Trainer\n",
      "2  B005AGO4LU      14       NIKE Women's Flex Supreme TR 4 Cross Trainer\n",
      "3  B0092UF54A      14       NIKE Women's Flex Supreme TR 4 Cross Trainer\n",
      "4  B014IBJKNO      14       NIKE Women's Flex Supreme TR 4 Cross Trainer\n",
      "5  B010RRWKT4      14       NIKE Women's Flex Supreme TR 4 Cross Trainer\n",
      "6  B0014F7B98      14  var aPageStart = (new Date()).getTime();\\nvar ...\n",
      "7  B001IKJOLW      14       NIKE Women's Flex Supreme TR 4 Cross Trainer\n",
      "8  B00KW4LCCE       8   Colorful Peacock Bird Wing Y Bib Collar Necklace\n",
      "9  B00KREP1HQ       7  Chunky Oval Turquoise Tibet Silver Pendant Tor...\n"
     ]
    }
   ],
   "source": [
    "# Now we have to Find the most frequently purchased product of all time.\n",
    "# Let us first count how many times Each Product was reviewed.\n",
    "\n",
    "product_review_count = data.asin.value_counts()[:10].rename_axis('asin').reset_index(name='counts')\n",
    "product_review_count['Title']=product_review_count.apply(lambda row: meta_data.loc[meta_data['asin'] == row.asin, 'title'].iloc[0] , axis=1)\n",
    "\n",
    "print(product_review_count)"
   ]
  },
  {
   "cell_type": "code",
   "execution_count": null,
   "metadata": {},
   "outputs": [],
   "source": [
    "# The above are the top 10 Reviewed products."
   ]
  },
  {
   "cell_type": "code",
   "execution_count": null,
   "metadata": {},
   "outputs": [],
   "source": []
  }
 ],
 "metadata": {
  "kernelspec": {
   "display_name": "Python 3",
   "language": "python",
   "name": "python3"
  },
  "language_info": {
   "codemirror_mode": {
    "name": "ipython",
    "version": 3
   },
   "file_extension": ".py",
   "mimetype": "text/x-python",
   "name": "python",
   "nbconvert_exporter": "python",
   "pygments_lexer": "ipython3",
   "version": "3.7.4"
  }
 },
 "nbformat": 4,
 "nbformat_minor": 2
}

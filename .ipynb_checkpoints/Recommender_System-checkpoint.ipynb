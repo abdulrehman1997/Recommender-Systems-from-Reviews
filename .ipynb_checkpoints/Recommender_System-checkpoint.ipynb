{
 "cells": [
  {
   "cell_type": "code",
   "execution_count": 1,
   "metadata": {},
   "outputs": [],
   "source": [
    "import numpy as np\n",
    "import pandas as pd\n",
    "from datetime import datetime\n",
    "\n",
    "import matplotlib.pyplot as plt\n",
    "from matplotlib.ticker import PercentFormatter\n",
    "%matplotlib inline\n",
    "\n",
    "from sklearn.preprocessing import MinMaxScaler\n",
    "from sklearn.decomposition import PCA\n",
    "from sklearn.cluster import AgglomerativeClustering\n",
    "from sklearn.neighbors import NearestNeighbors\n",
    "from sklearn.metrics import mean_squared_error, mean_absolute_error\n",
    "\n",
    "from mpl_toolkits import mplot3d\n",
    "\n",
    "import plotly.express as px\n",
    "\n",
    "import scipy.cluster.hierarchy as sch\n",
    "from scipy.spatial.distance import correlation, cosine\n",
    "from scipy.stats import describe\n",
    "from scipy.sparse.linalg import svds"
   ]
  },
  {
   "cell_type": "markdown",
   "metadata": {},
   "source": [
    "## Method to get Principal Components."
   ]
  },
  {
   "cell_type": "code",
   "execution_count": 2,
   "metadata": {},
   "outputs": [],
   "source": [
    "def get_pca(data,n):\n",
    "    pca = PCA(n_components=n)\n",
    "    principalComponents = pca.fit_transform(data)\n",
    "    principalComponents = pd.DataFrame(data = principalComponents)\n",
    "    return(pca,principalComponents)"
   ]
  },
  {
   "cell_type": "markdown",
   "metadata": {},
   "source": [
    "## Method to plot Pareto of the Principal Components."
   ]
  },
  {
   "cell_type": "code",
   "execution_count": 30,
   "metadata": {},
   "outputs": [],
   "source": [
    "def plot_pareto(pca, principalComponents):\n",
    "    \n",
    "    plt.bar(principalComponents.columns,pca.explained_variance_ratio_)\n",
    "    df = pd.DataFrame({'var':pca.explained_variance_ratio_,\n",
    "                       'PC':principalComponents.columns})\n",
    "    df[\"cummulative\"] = df[\"var\"].cumsum()/df[\"var\"].sum()*100\n",
    "    \n",
    "    fig, ax = plt.subplots()\n",
    "    ax.bar(df['PC'], df[\"var\"])\n",
    "    ax.set_ylabel('Variance')\n",
    "    ax.set_xlabel('Principal Components')\n",
    "    ax2 = ax.twinx()\n",
    "    ax2.plot(df['PC'], df[\"cummulative\"], color=\"C1\")\n",
    "    ax2.yaxis.set_major_formatter(PercentFormatter())\n",
    "    ax2.axvline(x=150, label='line at x = {}'.format(150),c='red')\n",
    "    ax2.set_title('Pareto Plot')\n",
    "\n",
    "\n",
    "    ax.tick_params(axis=\"y\", colors=\"C0\")\n",
    "    ax2.tick_params(axis=\"y\", colors=\"C1\")\n",
    "    plt.show()\n",
    "#     plt.savefig('Pareto.png')"
   ]
  },
  {
   "cell_type": "markdown",
   "metadata": {},
   "source": [
    "### - Importing the Useritem Matrix and replacing NA,\n",
    "### - Replacing ratings with 1 (indicating product bought)\n",
    "### - Applying PCA for dimension reduction."
   ]
  },
  {
   "cell_type": "code",
   "execution_count": 32,
   "metadata": {},
   "outputs": [
    {
     "data": {
      "text/html": [
       "<div>\n",
       "<style scoped>\n",
       "    .dataframe tbody tr th:only-of-type {\n",
       "        vertical-align: middle;\n",
       "    }\n",
       "\n",
       "    .dataframe tbody tr th {\n",
       "        vertical-align: top;\n",
       "    }\n",
       "\n",
       "    .dataframe thead th {\n",
       "        text-align: right;\n",
       "    }\n",
       "</style>\n",
       "<table border=\"1\" class=\"dataframe\">\n",
       "  <thead>\n",
       "    <tr style=\"text-align: right;\">\n",
       "      <th></th>\n",
       "      <th>B000AO7PY0</th>\n",
       "      <th>B000BD7SGK</th>\n",
       "      <th>B000EE1NNA</th>\n",
       "      <th>B000ER9V68</th>\n",
       "      <th>B000JOOR7O</th>\n",
       "      <th>B000K2PJ4K</th>\n",
       "      <th>B000KPIHQ4</th>\n",
       "      <th>B000NBIMG0</th>\n",
       "      <th>B000NGJ41W</th>\n",
       "      <th>B000V0IBDM</th>\n",
       "      <th>...</th>\n",
       "      <th>B01HBACQXA</th>\n",
       "      <th>B01HBJW7DU</th>\n",
       "      <th>B01HC6I664</th>\n",
       "      <th>B01HC7565W</th>\n",
       "      <th>B01HD09GLI</th>\n",
       "      <th>B01HEBZTI0</th>\n",
       "      <th>B01HGIDX5M</th>\n",
       "      <th>B01HH3WJVA</th>\n",
       "      <th>B01HI84VBA</th>\n",
       "      <th>B01HJEO9SS</th>\n",
       "    </tr>\n",
       "    <tr>\n",
       "      <th>reviewerID</th>\n",
       "      <th></th>\n",
       "      <th></th>\n",
       "      <th></th>\n",
       "      <th></th>\n",
       "      <th></th>\n",
       "      <th></th>\n",
       "      <th></th>\n",
       "      <th></th>\n",
       "      <th></th>\n",
       "      <th></th>\n",
       "      <th></th>\n",
       "      <th></th>\n",
       "      <th></th>\n",
       "      <th></th>\n",
       "      <th></th>\n",
       "      <th></th>\n",
       "      <th></th>\n",
       "      <th></th>\n",
       "      <th></th>\n",
       "      <th></th>\n",
       "      <th></th>\n",
       "    </tr>\n",
       "  </thead>\n",
       "  <tbody>\n",
       "    <tr>\n",
       "      <td>A2ZSX6R0TL8ET6</td>\n",
       "      <td>5.0</td>\n",
       "      <td>0.0</td>\n",
       "      <td>0.0</td>\n",
       "      <td>0.0</td>\n",
       "      <td>0.0</td>\n",
       "      <td>0.0</td>\n",
       "      <td>0.0</td>\n",
       "      <td>0.0</td>\n",
       "      <td>0.0</td>\n",
       "      <td>0.0</td>\n",
       "      <td>...</td>\n",
       "      <td>0.0</td>\n",
       "      <td>0.0</td>\n",
       "      <td>0.0</td>\n",
       "      <td>0.0</td>\n",
       "      <td>0.0</td>\n",
       "      <td>0.0</td>\n",
       "      <td>0.0</td>\n",
       "      <td>0.0</td>\n",
       "      <td>0.0</td>\n",
       "      <td>0.0</td>\n",
       "    </tr>\n",
       "    <tr>\n",
       "      <td>AWBGHDHH7E51F</td>\n",
       "      <td>0.0</td>\n",
       "      <td>2.0</td>\n",
       "      <td>0.0</td>\n",
       "      <td>0.0</td>\n",
       "      <td>0.0</td>\n",
       "      <td>0.0</td>\n",
       "      <td>0.0</td>\n",
       "      <td>0.0</td>\n",
       "      <td>0.0</td>\n",
       "      <td>0.0</td>\n",
       "      <td>...</td>\n",
       "      <td>0.0</td>\n",
       "      <td>0.0</td>\n",
       "      <td>0.0</td>\n",
       "      <td>0.0</td>\n",
       "      <td>0.0</td>\n",
       "      <td>0.0</td>\n",
       "      <td>0.0</td>\n",
       "      <td>0.0</td>\n",
       "      <td>0.0</td>\n",
       "      <td>0.0</td>\n",
       "    </tr>\n",
       "    <tr>\n",
       "      <td>AAC2BU2V9X95K</td>\n",
       "      <td>0.0</td>\n",
       "      <td>0.0</td>\n",
       "      <td>5.0</td>\n",
       "      <td>0.0</td>\n",
       "      <td>0.0</td>\n",
       "      <td>0.0</td>\n",
       "      <td>0.0</td>\n",
       "      <td>0.0</td>\n",
       "      <td>0.0</td>\n",
       "      <td>0.0</td>\n",
       "      <td>...</td>\n",
       "      <td>0.0</td>\n",
       "      <td>0.0</td>\n",
       "      <td>0.0</td>\n",
       "      <td>0.0</td>\n",
       "      <td>0.0</td>\n",
       "      <td>0.0</td>\n",
       "      <td>0.0</td>\n",
       "      <td>0.0</td>\n",
       "      <td>0.0</td>\n",
       "      <td>0.0</td>\n",
       "    </tr>\n",
       "    <tr>\n",
       "      <td>A1FY4RR0LGCJ0Q</td>\n",
       "      <td>0.0</td>\n",
       "      <td>0.0</td>\n",
       "      <td>0.0</td>\n",
       "      <td>5.0</td>\n",
       "      <td>0.0</td>\n",
       "      <td>0.0</td>\n",
       "      <td>0.0</td>\n",
       "      <td>0.0</td>\n",
       "      <td>0.0</td>\n",
       "      <td>0.0</td>\n",
       "      <td>...</td>\n",
       "      <td>0.0</td>\n",
       "      <td>0.0</td>\n",
       "      <td>0.0</td>\n",
       "      <td>0.0</td>\n",
       "      <td>0.0</td>\n",
       "      <td>0.0</td>\n",
       "      <td>0.0</td>\n",
       "      <td>0.0</td>\n",
       "      <td>0.0</td>\n",
       "      <td>0.0</td>\n",
       "    </tr>\n",
       "    <tr>\n",
       "      <td>A3Y15MFKAKJR3</td>\n",
       "      <td>0.0</td>\n",
       "      <td>0.0</td>\n",
       "      <td>0.0</td>\n",
       "      <td>0.0</td>\n",
       "      <td>5.0</td>\n",
       "      <td>0.0</td>\n",
       "      <td>0.0</td>\n",
       "      <td>0.0</td>\n",
       "      <td>0.0</td>\n",
       "      <td>0.0</td>\n",
       "      <td>...</td>\n",
       "      <td>0.0</td>\n",
       "      <td>0.0</td>\n",
       "      <td>0.0</td>\n",
       "      <td>0.0</td>\n",
       "      <td>0.0</td>\n",
       "      <td>0.0</td>\n",
       "      <td>0.0</td>\n",
       "      <td>0.0</td>\n",
       "      <td>0.0</td>\n",
       "      <td>0.0</td>\n",
       "    </tr>\n",
       "    <tr>\n",
       "      <td>...</td>\n",
       "      <td>...</td>\n",
       "      <td>...</td>\n",
       "      <td>...</td>\n",
       "      <td>...</td>\n",
       "      <td>...</td>\n",
       "      <td>...</td>\n",
       "      <td>...</td>\n",
       "      <td>...</td>\n",
       "      <td>...</td>\n",
       "      <td>...</td>\n",
       "      <td>...</td>\n",
       "      <td>...</td>\n",
       "      <td>...</td>\n",
       "      <td>...</td>\n",
       "      <td>...</td>\n",
       "      <td>...</td>\n",
       "      <td>...</td>\n",
       "      <td>...</td>\n",
       "      <td>...</td>\n",
       "      <td>...</td>\n",
       "      <td>...</td>\n",
       "    </tr>\n",
       "    <tr>\n",
       "      <td>A3VAF5GP6K65VU</td>\n",
       "      <td>0.0</td>\n",
       "      <td>0.0</td>\n",
       "      <td>0.0</td>\n",
       "      <td>0.0</td>\n",
       "      <td>0.0</td>\n",
       "      <td>0.0</td>\n",
       "      <td>0.0</td>\n",
       "      <td>0.0</td>\n",
       "      <td>0.0</td>\n",
       "      <td>0.0</td>\n",
       "      <td>...</td>\n",
       "      <td>0.0</td>\n",
       "      <td>0.0</td>\n",
       "      <td>0.0</td>\n",
       "      <td>0.0</td>\n",
       "      <td>0.0</td>\n",
       "      <td>0.0</td>\n",
       "      <td>0.0</td>\n",
       "      <td>0.0</td>\n",
       "      <td>0.0</td>\n",
       "      <td>0.0</td>\n",
       "    </tr>\n",
       "    <tr>\n",
       "      <td>A1TSKC7FB8KOMJ</td>\n",
       "      <td>0.0</td>\n",
       "      <td>0.0</td>\n",
       "      <td>0.0</td>\n",
       "      <td>0.0</td>\n",
       "      <td>0.0</td>\n",
       "      <td>0.0</td>\n",
       "      <td>0.0</td>\n",
       "      <td>0.0</td>\n",
       "      <td>0.0</td>\n",
       "      <td>0.0</td>\n",
       "      <td>...</td>\n",
       "      <td>0.0</td>\n",
       "      <td>0.0</td>\n",
       "      <td>0.0</td>\n",
       "      <td>0.0</td>\n",
       "      <td>0.0</td>\n",
       "      <td>0.0</td>\n",
       "      <td>0.0</td>\n",
       "      <td>0.0</td>\n",
       "      <td>0.0</td>\n",
       "      <td>0.0</td>\n",
       "    </tr>\n",
       "    <tr>\n",
       "      <td>A286YLFNRTV13C</td>\n",
       "      <td>0.0</td>\n",
       "      <td>0.0</td>\n",
       "      <td>0.0</td>\n",
       "      <td>0.0</td>\n",
       "      <td>0.0</td>\n",
       "      <td>0.0</td>\n",
       "      <td>0.0</td>\n",
       "      <td>0.0</td>\n",
       "      <td>0.0</td>\n",
       "      <td>0.0</td>\n",
       "      <td>...</td>\n",
       "      <td>0.0</td>\n",
       "      <td>0.0</td>\n",
       "      <td>0.0</td>\n",
       "      <td>0.0</td>\n",
       "      <td>0.0</td>\n",
       "      <td>0.0</td>\n",
       "      <td>0.0</td>\n",
       "      <td>0.0</td>\n",
       "      <td>0.0</td>\n",
       "      <td>0.0</td>\n",
       "    </tr>\n",
       "    <tr>\n",
       "      <td>AFRIETT8JN07G</td>\n",
       "      <td>0.0</td>\n",
       "      <td>0.0</td>\n",
       "      <td>0.0</td>\n",
       "      <td>0.0</td>\n",
       "      <td>0.0</td>\n",
       "      <td>0.0</td>\n",
       "      <td>0.0</td>\n",
       "      <td>0.0</td>\n",
       "      <td>0.0</td>\n",
       "      <td>0.0</td>\n",
       "      <td>...</td>\n",
       "      <td>0.0</td>\n",
       "      <td>0.0</td>\n",
       "      <td>0.0</td>\n",
       "      <td>0.0</td>\n",
       "      <td>0.0</td>\n",
       "      <td>0.0</td>\n",
       "      <td>0.0</td>\n",
       "      <td>0.0</td>\n",
       "      <td>0.0</td>\n",
       "      <td>0.0</td>\n",
       "    </tr>\n",
       "    <tr>\n",
       "      <td>A65D30A5915H5</td>\n",
       "      <td>0.0</td>\n",
       "      <td>0.0</td>\n",
       "      <td>0.0</td>\n",
       "      <td>0.0</td>\n",
       "      <td>0.0</td>\n",
       "      <td>0.0</td>\n",
       "      <td>0.0</td>\n",
       "      <td>0.0</td>\n",
       "      <td>0.0</td>\n",
       "      <td>0.0</td>\n",
       "      <td>...</td>\n",
       "      <td>0.0</td>\n",
       "      <td>0.0</td>\n",
       "      <td>0.0</td>\n",
       "      <td>0.0</td>\n",
       "      <td>0.0</td>\n",
       "      <td>0.0</td>\n",
       "      <td>0.0</td>\n",
       "      <td>0.0</td>\n",
       "      <td>0.0</td>\n",
       "      <td>0.0</td>\n",
       "    </tr>\n",
       "  </tbody>\n",
       "</table>\n",
       "<p>240 rows × 2532 columns</p>\n",
       "</div>"
      ],
      "text/plain": [
       "                B000AO7PY0  B000BD7SGK  B000EE1NNA  B000ER9V68  B000JOOR7O  \\\n",
       "reviewerID                                                                   \n",
       "A2ZSX6R0TL8ET6         5.0         0.0         0.0         0.0         0.0   \n",
       "AWBGHDHH7E51F          0.0         2.0         0.0         0.0         0.0   \n",
       "AAC2BU2V9X95K          0.0         0.0         5.0         0.0         0.0   \n",
       "A1FY4RR0LGCJ0Q         0.0         0.0         0.0         5.0         0.0   \n",
       "A3Y15MFKAKJR3          0.0         0.0         0.0         0.0         5.0   \n",
       "...                    ...         ...         ...         ...         ...   \n",
       "A3VAF5GP6K65VU         0.0         0.0         0.0         0.0         0.0   \n",
       "A1TSKC7FB8KOMJ         0.0         0.0         0.0         0.0         0.0   \n",
       "A286YLFNRTV13C         0.0         0.0         0.0         0.0         0.0   \n",
       "AFRIETT8JN07G          0.0         0.0         0.0         0.0         0.0   \n",
       "A65D30A5915H5          0.0         0.0         0.0         0.0         0.0   \n",
       "\n",
       "                B000K2PJ4K  B000KPIHQ4  B000NBIMG0  B000NGJ41W  B000V0IBDM  \\\n",
       "reviewerID                                                                   \n",
       "A2ZSX6R0TL8ET6         0.0         0.0         0.0         0.0         0.0   \n",
       "AWBGHDHH7E51F          0.0         0.0         0.0         0.0         0.0   \n",
       "AAC2BU2V9X95K          0.0         0.0         0.0         0.0         0.0   \n",
       "A1FY4RR0LGCJ0Q         0.0         0.0         0.0         0.0         0.0   \n",
       "A3Y15MFKAKJR3          0.0         0.0         0.0         0.0         0.0   \n",
       "...                    ...         ...         ...         ...         ...   \n",
       "A3VAF5GP6K65VU         0.0         0.0         0.0         0.0         0.0   \n",
       "A1TSKC7FB8KOMJ         0.0         0.0         0.0         0.0         0.0   \n",
       "A286YLFNRTV13C         0.0         0.0         0.0         0.0         0.0   \n",
       "AFRIETT8JN07G          0.0         0.0         0.0         0.0         0.0   \n",
       "A65D30A5915H5          0.0         0.0         0.0         0.0         0.0   \n",
       "\n",
       "                ...  B01HBACQXA  B01HBJW7DU  B01HC6I664  B01HC7565W  \\\n",
       "reviewerID      ...                                                   \n",
       "A2ZSX6R0TL8ET6  ...         0.0         0.0         0.0         0.0   \n",
       "AWBGHDHH7E51F   ...         0.0         0.0         0.0         0.0   \n",
       "AAC2BU2V9X95K   ...         0.0         0.0         0.0         0.0   \n",
       "A1FY4RR0LGCJ0Q  ...         0.0         0.0         0.0         0.0   \n",
       "A3Y15MFKAKJR3   ...         0.0         0.0         0.0         0.0   \n",
       "...             ...         ...         ...         ...         ...   \n",
       "A3VAF5GP6K65VU  ...         0.0         0.0         0.0         0.0   \n",
       "A1TSKC7FB8KOMJ  ...         0.0         0.0         0.0         0.0   \n",
       "A286YLFNRTV13C  ...         0.0         0.0         0.0         0.0   \n",
       "AFRIETT8JN07G   ...         0.0         0.0         0.0         0.0   \n",
       "A65D30A5915H5   ...         0.0         0.0         0.0         0.0   \n",
       "\n",
       "                B01HD09GLI  B01HEBZTI0  B01HGIDX5M  B01HH3WJVA  B01HI84VBA  \\\n",
       "reviewerID                                                                   \n",
       "A2ZSX6R0TL8ET6         0.0         0.0         0.0         0.0         0.0   \n",
       "AWBGHDHH7E51F          0.0         0.0         0.0         0.0         0.0   \n",
       "AAC2BU2V9X95K          0.0         0.0         0.0         0.0         0.0   \n",
       "A1FY4RR0LGCJ0Q         0.0         0.0         0.0         0.0         0.0   \n",
       "A3Y15MFKAKJR3          0.0         0.0         0.0         0.0         0.0   \n",
       "...                    ...         ...         ...         ...         ...   \n",
       "A3VAF5GP6K65VU         0.0         0.0         0.0         0.0         0.0   \n",
       "A1TSKC7FB8KOMJ         0.0         0.0         0.0         0.0         0.0   \n",
       "A286YLFNRTV13C         0.0         0.0         0.0         0.0         0.0   \n",
       "AFRIETT8JN07G          0.0         0.0         0.0         0.0         0.0   \n",
       "A65D30A5915H5          0.0         0.0         0.0         0.0         0.0   \n",
       "\n",
       "                B01HJEO9SS  \n",
       "reviewerID                  \n",
       "A2ZSX6R0TL8ET6         0.0  \n",
       "AWBGHDHH7E51F          0.0  \n",
       "AAC2BU2V9X95K          0.0  \n",
       "A1FY4RR0LGCJ0Q         0.0  \n",
       "A3Y15MFKAKJR3          0.0  \n",
       "...                    ...  \n",
       "A3VAF5GP6K65VU         0.0  \n",
       "A1TSKC7FB8KOMJ         0.0  \n",
       "A286YLFNRTV13C         0.0  \n",
       "AFRIETT8JN07G          0.0  \n",
       "A65D30A5915H5          0.0  \n",
       "\n",
       "[240 rows x 2532 columns]"
      ]
     },
     "execution_count": 32,
     "metadata": {},
     "output_type": "execute_result"
    }
   ],
   "source": [
    "# Importing the Useritem Matrix.\n",
    "useritem = pd.read_csv('/Users/abdulrehman/Desktop/usml/data/AMAZON_FASHION_user_itemset.csv',index_col=0)\n",
    "meta_data = pd.read_json('/Users/abdulrehman/Desktop/usml/data/meta_AMAZON_FASHION.json',lines=True)\n",
    "ratings_df = pd.read_json('/Users/abdulrehman/Desktop/usml/data/AMAZON_FASHION.json',lines=True)\n",
    "\n",
    "# Replacing NA with 0 and Replacing ratings with 1 (indicating product bought).\n",
    "# data = useritem.loc[:, useritem.columns != 'reviewerID']\n",
    "data = useritem.fillna(0)\n",
    "# data = data.T\n",
    "# data = data.div(5)\n",
    "\n",
    "# Applying PCA for dimension reduction.\n",
    "pca , principalComponents = get_pca(data,150)\n",
    "data"
   ]
  },
  {
   "cell_type": "markdown",
   "metadata": {},
   "source": [
    "### - Plotting pareto to visualise the principal components."
   ]
  },
  {
   "cell_type": "code",
   "execution_count": 22,
   "metadata": {},
   "outputs": [
    {
     "data": {
      "image/png": "[encoded data removed]",
      "text/plain": [
       "<Figure size 432x288 with 1 Axes>"
      ]
     },
     "metadata": {
      "needs_background": "light"
     },
     "output_type": "display_data"
    },
    {
     "data": {
      "image/png": "[encoded data removed]",
      "text/plain": [
       "<Figure size 432x288 with 2 Axes>"
      ]
     },
     "metadata": {},
     "output_type": "display_data"
    }
   ],
   "source": [
    "plot_pareto(pca, principalComponents)"
   ]
  },
  {
   "cell_type": "markdown",
   "metadata": {},
   "source": [
    "### Plotting the Dendrogram with cosine distance and single linkage."
   ]
  },
  {
   "cell_type": "code",
   "execution_count": 25,
   "metadata": {},
   "outputs": [
    {
     "data": {
      "image/png": "[encoded data removed]",
      "text/plain": [
       "<Figure size 432x288 with 1 Axes>"
      ]
     },
     "metadata": {
      "needs_background": "light"
     },
     "output_type": "display_data"
    }
   ],
   "source": [
    "dendogram = sch.dendrogram(sch.linkage(principalComponents,method='single', metric=\"cosine\"))"
   ]
  },
  {
   "cell_type": "markdown",
   "metadata": {},
   "source": [
    "### Plotting the Dendrogram with cosine distance and complete linkage."
   ]
  },
  {
   "cell_type": "code",
   "execution_count": 27,
   "metadata": {},
   "outputs": [
    {
     "data": {
      "text/plain": [
       "<function matplotlib.pyplot.show(*args, **kw)>"
      ]
     },
     "execution_count": 27,
     "metadata": {},
     "output_type": "execute_result"
    },
    {
     "data": {
      "image/png": "[encoded data removed]",
      "text/plain": [
       "<Figure size 432x288 with 1 Axes>"
      ]
     },
     "metadata": {
      "needs_background": "light"
     },
     "output_type": "display_data"
    }
   ],
   "source": [
    "plt.title('Dendrogram')\n",
    "plt.ylabel('distance')\n",
    "dendogram = sch.dendrogram(sch.linkage(principalComponents,method='complete', metric=\"cosine\"),no_labels=True,)\n",
    "plt.show\n",
    "plt.savefig('dendrogram.png')"
   ]
  },
  {
   "cell_type": "markdown",
   "metadata": {},
   "source": [
    "### Plotting the Dendrogram with cosine distance and average linkage."
   ]
  },
  {
   "cell_type": "code",
   "execution_count": 26,
   "metadata": {},
   "outputs": [
    {
     "data": {
      "image/png": "[encoded data removed]",
      "text/plain": [
       "<Figure size 432x288 with 1 Axes>"
      ]
     },
     "metadata": {
      "needs_background": "light"
     },
     "output_type": "display_data"
    }
   ],
   "source": [
    "dendogram = sch.dendrogram(sch.linkage(principalComponents,method='average', metric=\"cosine\"))"
   ]
  },
  {
   "cell_type": "markdown",
   "metadata": {},
   "source": [
    "##### From the dendrogram we can see that cosine distanc with Complete linkage gives the best reults.\n",
    "##### We can see that 10 looks like a good value for n_clusters.\n",
    "##### We now run Agglomerative Clustering and get labels to cluster similar users."
   ]
  },
  {
   "cell_type": "code",
   "execution_count": null,
   "metadata": {},
   "outputs": [],
   "source": [
    "aggclust = AgglomerativeClustering(10, affinity='cosine', linkage='complete')"
   ]
  },
  {
   "cell_type": "code",
   "execution_count": null,
   "metadata": {},
   "outputs": [],
   "source": [
    "hc = aggclust.fit_predict(principalComponents)"
   ]
  },
  {
   "cell_type": "code",
   "execution_count": null,
   "metadata": {},
   "outputs": [],
   "source": [
    "unique_elements, counts_elements = np.unique(hc, return_counts=True)\n",
    "print(\"Frequency of unique values in the labels array:\")\n",
    "print(np.asarray((unique_elements, counts_elements)))"
   ]
  },
  {
   "cell_type": "code",
   "execution_count": null,
   "metadata": {},
   "outputs": [],
   "source": [
    "# data = data.div(0.2)\n",
    "data['labels'] = hc\n"
   ]
  },
  {
   "cell_type": "code",
   "execution_count": null,
   "metadata": {},
   "outputs": [],
   "source": [
    "groups = [x for _, x in data.groupby(data['labels'])]"
   ]
  },
  {
   "cell_type": "code",
   "execution_count": null,
   "metadata": {},
   "outputs": [],
   "source": [
    "#in each group remove columns of items which none of the customers from that group bought.\n",
    "for i in range(len(groups)):\n",
    "    groups[i] = groups[i].loc[:, (groups[i] != 0.0).any(axis=0)]\n",
    "    groups[i] = groups[i].loc[:, groups[i].columns != 'labels']\n",
    "#     groups[i] = groups[i].T"
   ]
  },
  {
   "cell_type": "code",
   "execution_count": null,
   "metadata": {},
   "outputs": [],
   "source": [
    "groups"
   ]
  },
  {
   "cell_type": "code",
   "execution_count": null,
   "metadata": {},
   "outputs": [],
   "source": [
    "R_df = groups[0]\n",
    "\n",
    "R = R_df.values\n",
    "user_ratings_mean = np.mean(R, axis = 1)\n",
    "R_demeaned = R - user_ratings_mean.reshape(-1, 1)\n",
    "\n",
    "U, sigma, Vt = svds(R_demeaned, k = 5)\n",
    "sigma = np.diag(sigma)\n",
    "\n",
    "all_user_predicted_ratings = np.dot(np.dot(U, sigma), Vt) + user_ratings_mean.reshape(-1, 1)"
   ]
  },
  {
   "cell_type": "code",
   "execution_count": null,
   "metadata": {},
   "outputs": [],
   "source": [
    "preds_df = pd.DataFrame(all_user_predicted_ratings, columns = R_df.columns, index = R_df.index)\n",
    "preds_df"
   ]
  },
  {
   "cell_type": "code",
   "execution_count": null,
   "metadata": {},
   "outputs": [],
   "source": [
    "preds_df.loc[ 'AWBGHDHH7E51F' , :]"
   ]
  },
  {
   "cell_type": "code",
   "execution_count": null,
   "metadata": {},
   "outputs": [],
   "source": [
    "def recommend_items(preds_df, userID, movies_df, original_ratings_df, num_recommendations=1):\n",
    "    \n",
    "    # Get and sort the user's predictions\n",
    "    sorted_user_predictions = preds_df.loc[userID , :].sort_values(ascending=False) # UserID starts at 1\n",
    "    print(sorted_user_predictions)\n",
    "    \n",
    "    # Get the user's data and merge in the movie information.\n",
    "    user_data = original_ratings_df[original_ratings_df.reviewerID == userID]\n",
    "    user_full = (user_data.merge(movies_df, how = 'left', left_on = 'asin', right_on = 'asin').\n",
    "                     sort_values(['overall'], ascending=False))\n",
    "\n",
    "    print('User {0} has already rated {1} Items.'.format(userID, user_full.shape[0]))\n",
    "    print('Recommending top {0} Items not already purchased.'.format(num_recommendations))\n",
    "    \n",
    "    # Recommend the highest predicted rating movies that the user hasn't seen yet.\n",
    "    recommendations = (movies_df[~movies_df['asin'].isin(user_full['asin'])].\n",
    "         merge(pd.DataFrame(sorted_user_predictions), how = 'left',\n",
    "               left_on = 'asin',\n",
    "               right_index=True).\n",
    "         rename(columns = {userID: 'Predictions'}).\n",
    "         sort_values('Predictions', ascending = False).\n",
    "                       iloc[:num_recommendations, :-1]\n",
    "                      )\n",
    "\n",
    "    return user_full, recommendations"
   ]
  },
  {
   "cell_type": "code",
   "execution_count": null,
   "metadata": {
    "scrolled": true
   },
   "outputs": [],
   "source": [
    "already_rated, predictions = recommend_items(preds_df, 'AWBGHDHH7E51F', meta_data, ratings_df, 4)"
   ]
  },
  {
   "cell_type": "code",
   "execution_count": null,
   "metadata": {},
   "outputs": [],
   "source": [
    "np.array(predictions[['title','asin']])"
   ]
  },
  {
   "cell_type": "code",
   "execution_count": null,
   "metadata": {},
   "outputs": [],
   "source": [
    "train = pd.read_csv('/Users/abdulrehman/Desktop/usml/data/train_user_itemset.csv',index_col=0)\n",
    "R_df = train.fillna(0)"
   ]
  },
  {
   "cell_type": "code",
   "execution_count": null,
   "metadata": {},
   "outputs": [],
   "source": [
    "np.unique(np.array(preds_df))"
   ]
  },
  {
   "cell_type": "code",
   "execution_count": null,
   "metadata": {},
   "outputs": [],
   "source": [
    "#Making predictions only for purchased items\n",
    "pre=np.where(R_df == 0, 0, preds_df) \n",
    "\n",
    "#Comparing predictions with original data\n",
    "mean_absolute_error(pre, R_df)"
   ]
  },
  {
   "cell_type": "code",
   "execution_count": null,
   "metadata": {},
   "outputs": [],
   "source": []
  },
  {
   "cell_type": "code",
   "execution_count": null,
   "metadata": {},
   "outputs": [],
   "source": []
  },
  {
   "cell_type": "code",
   "execution_count": null,
   "metadata": {},
   "outputs": [],
   "source": [
    "def findksimilaritems(item, data, k):\n",
    "    data=data.T\n",
    "    model_knn = NearestNeighbors(metric = \"cosine\", algorithm = 'brute') \n",
    "    model_knn.fit(data)\n",
    "\n",
    "    distances, indices = model_knn.kneighbors(data.iloc[item-1, :].values.reshape(1, -1), n_neighbors = k+1)\n",
    "    similarities = 1-distances.flatten()\n",
    "    indices = indices.flatten()\n",
    "    for i in range(0, len(indices)):\n",
    "        if indices[i]+1 == item:\n",
    "            indices = np.delete(indices, i)\n",
    "            similarities = np.delete(similarities, i)\n",
    "            break\n",
    "            \n",
    "    return(similarities,indices)\n"
   ]
  },
  {
   "cell_type": "code",
   "execution_count": null,
   "metadata": {},
   "outputs": [],
   "source": [
    "findksimilaritems(1, groups[0], 5)"
   ]
  },
  {
   "cell_type": "code",
   "execution_count": null,
   "metadata": {},
   "outputs": [],
   "source": [
    "def predict_itembased(user, item, data, k):\n",
    "    prediction= wtd_sum =0\n",
    "    similarities, indices=findksimilaritems(item, data, k)\n",
    "    \n",
    "    for i in range(0, len(indices.flatten())):\n",
    "        wtd_sum = wtd_sum + (data.iloc[user-1,indices.flatten()[i]] * (similarities[i]))\n",
    "        \n",
    "    prediction = wtd_sum/np.sum(similarities)-1\n",
    "    \n",
    "    return prediction"
   ]
  },
  {
   "cell_type": "code",
   "execution_count": null,
   "metadata": {},
   "outputs": [],
   "source": [
    "predict_itembased(2, 2, groups[0], 5)"
   ]
  },
  {
   "cell_type": "code",
   "execution_count": null,
   "metadata": {},
   "outputs": [],
   "source": [
    "sum_rmse = 0.0\n",
    "sum_mae = 0.0\n",
    "for i in range(1):\n",
    "    users = groups[i].shape[0]\n",
    "    items = groups[i].shape[1]\n",
    "    pred = np.zeros((users, items))\n",
    "    start=datetime.now()\n",
    "    for j in range(users):\n",
    "        for k in range(items):\n",
    "            pred[j][k] = predict_itembased(j+1, k+1, groups[i], 5)\n",
    "    print(datetime.now()-start)\n",
    "#     MSE = mean_squared_error(pred, groups[i])\n",
    "    MAE = mean_absolute_error(pred, groups[i])\n",
    "    \n",
    "#     sum_rmse = sum_rmse + MSE\n",
    "    sum_mae = sum_mae + MAE\n",
    "\n",
    "    print(\"MAE : {0}\".format(MAE))\n",
    "print('average MAE = ',(sum_mae/8))"
   ]
  },
  {
   "cell_type": "code",
   "execution_count": null,
   "metadata": {},
   "outputs": [],
   "source": [
    "data = data.loc[:, data.columns != 'labels']\n",
    "users = data.shape[0]\n",
    "items = data.shape[1]\n",
    "pred = np.zeros((users, items))\n",
    "start=datetime.now()\n",
    "\n",
    "for i in range(users):\n",
    "    for j in range(items):\n",
    "        pred[i][j] = predict_itembased(i+1, j+1, data, 5)\n",
    "# MSE = mean_squared_error(pred, data)\n",
    "print(datetime.now()-start)\n",
    "MAE = mean_absolute_error(pred, data)\n",
    "\n",
    "print(\"MAE : {0}\".format(MAE))"
   ]
  },
  {
   "cell_type": "code",
   "execution_count": null,
   "metadata": {},
   "outputs": [],
   "source": [
    "pre=np.where(real[0] != 0, 0, pred[0]) "
   ]
  },
  {
   "cell_type": "code",
   "execution_count": null,
   "metadata": {},
   "outputs": [],
   "source": [
    "real = np.array(groups[0])"
   ]
  },
  {
   "cell_type": "code",
   "execution_count": null,
   "metadata": {},
   "outputs": [],
   "source": [
    "real[0]"
   ]
  },
  {
   "cell_type": "code",
   "execution_count": null,
   "metadata": {},
   "outputs": [],
   "source": [
    "np.unique(pre)"
   ]
  },
  {
   "cell_type": "code",
   "execution_count": null,
   "metadata": {},
   "outputs": [],
   "source": []
  },
  {
   "cell_type": "code",
   "execution_count": null,
   "metadata": {},
   "outputs": [],
   "source": []
  }
 ],
 "metadata": {
  "kernelspec": {
   "display_name": "Python 3",
   "language": "python",
   "name": "python3"
  },
  "language_info": {
   "codemirror_mode": {
    "name": "ipython",
    "version": 3
   },
   "file_extension": ".py",
   "mimetype": "text/x-python",
   "name": "python",
   "nbconvert_exporter": "python",
   "pygments_lexer": "ipython3",
   "version": "3.7.4"
  }
 },
 "nbformat": 4,
 "nbformat_minor": 2
}

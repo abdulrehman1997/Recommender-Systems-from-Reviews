{
 "cells": [
  {
   "cell_type": "code",
   "execution_count": 1,
   "metadata": {},
   "outputs": [],
   "source": [
    "import pandas as pd\n",
    "import numpy as np\n",
    "import plotnine as p9\n",
    "import pyfpgrowth as fp\n",
    "\n",
    "import matplotlib.pyplot as plt\n",
    "%matplotlib inline\n",
    "\n",
    "import datetime\n",
    "import time"
   ]
  },
  {
   "cell_type": "code",
   "execution_count": 2,
   "metadata": {},
   "outputs": [],
   "source": [
    "# Reading JSON data into python as pandas dataframe.\n",
    "\n",
    "data = pd.read_json('/Users/abdulrehman/Desktop/usml/data/AMAZON_FASHION.json',lines=True)\n",
    "meta_data = pd.read_json('/Users/abdulrehman/Desktop/usml/data/meta_AMAZON_FASHION.json',lines=True)\n",
    "\n",
    "# print(data)\n",
    "# print(meta_data)"
   ]
  },
  {
   "cell_type": "code",
   "execution_count": 3,
   "metadata": {},
   "outputs": [],
   "source": [
    "# Converting unix time to Date format and storing it in reviewTime Column.\n",
    "\n",
    "data['reviewTime']=data.apply(lambda row: list(time.gmtime(row.unixReviewTime))[:-6], axis=1)\n",
    "data = data.sort_values('unixReviewTime')\n",
    "data['year']=data.apply(lambda row: row.reviewTime[0], axis=1)\n",
    "# print(data)"
   ]
  },
  {
   "cell_type": "code",
   "execution_count": null,
   "metadata": {},
   "outputs": [],
   "source": [
    "# Now we remove all customers who have made less than 5 transactions.\n",
    "# It is hard to learn behaviour of a customer with just one or two transactions hence removing the customers with less\n",
    "# transactions will help us learn better.\n",
    "\n",
    "byreviewer = data.groupby('reviewerID')\n",
    "byreviewer = byreviewer.filter(lambda x: len(x) > 4)\n",
    "# print(type(byreviewer))\n",
    "# print(byreviewer)"
   ]
  },
  {
   "cell_type": "code",
   "execution_count": null,
   "metadata": {},
   "outputs": [],
   "source": [
    "# Now we take this cleaned data and create a Useritem matrix with users in columns and items as columns\n",
    "# and fill it with each customer rating to the corresponding item column.\n",
    "\n",
    "reviewers = list(byreviewer.reviewerID.unique())\n",
    "# print(reviewers)\n",
    "itemratedf = pd.DataFrame(data={'reviewerID':reviewers})\n",
    "for index, row in byreviewer.iterrows():\n",
    "#     print(index)\n",
    "#     print(row['overall'])\n",
    "#     print(row['reviewerID'])\n",
    "#     print(row['asin'])\n",
    "    itemratedf.loc[itemratedf['reviewerID'] == row['reviewerID'], row['asin']] = row['overall']"
   ]
  },
  {
   "cell_type": "code",
   "execution_count": null,
   "metadata": {},
   "outputs": [],
   "source": [
    "# Saving the cleaned data frame and Useritem Matrix\n",
    "\n",
    "itemratedf.to_csv(r'/Users/abdulrehman/Desktop/usml/data/AMAZON_FASHION_user_itemset.csv', index = False)\n",
    "byreviewer.to_csv(r'/Users/abdulrehman/Desktop/usml/data/AMAZON_FASHION_clean.csv', index = False)"
   ]
  },
  {
   "cell_type": "code",
   "execution_count": 4,
   "metadata": {},
   "outputs": [],
   "source": [
    "# Now we will prepare data to make recommendations only based on reviews which have 4 or more ratings.\n",
    "# We will delete all the rows with overall ratings less than 4.\n",
    "# Then we remove all customers who have made less than 5 transactions.\n",
    "# It is hard to learn behaviour of a customer with just one or two transactions hence removing the customers with less\n",
    "# transactions will help us learn better.\n",
    "\n",
    "data.drop(data[ data['overall'] < 4 ].index , inplace=True)\n",
    "\n",
    "byreviewer = data.groupby('reviewerID')\n",
    "byreviewer = byreviewer.filter(lambda x: len(x) > 4)"
   ]
  },
  {
   "cell_type": "code",
   "execution_count": 5,
   "metadata": {},
   "outputs": [],
   "source": [
    "# Now we take this cleaned data and create a Useritem matrix with users in columns and items as columns\n",
    "# and fill it with each customer rating to the corresponding item column.\n",
    "\n",
    "reviewers = list(byreviewer.reviewerID.unique())\n",
    "itemratedf = pd.DataFrame(data={'reviewerID':reviewers})\n",
    "for index, row in byreviewer.iterrows():\n",
    "    itemratedf.loc[itemratedf['reviewerID'] == row['reviewerID'], row['asin']] = row['overall']"
   ]
  },
  {
   "cell_type": "code",
   "execution_count": 6,
   "metadata": {},
   "outputs": [],
   "source": [
    "# Saving the cleaned data frame and Useritem Matrix of Positive Reviews only dataset.\n",
    "\n",
    "itemratedf.to_csv(r'/Users/abdulrehman/Desktop/usml/data/AMAZON_FASHION_posonly_user_itemset.csv', index = False)\n",
    "byreviewer.to_csv(r'/Users/abdulrehman/Desktop/usml/data/AMAZON_FASHION_posonly_user_clean.csv', index = False)"
   ]
  },
  {
   "cell_type": "code",
   "execution_count": null,
   "metadata": {},
   "outputs": [],
   "source": [
    "# We will now do EDA on the cleaned Data in EDA.ipynb"
   ]
  }
 ],
 "metadata": {
  "kernelspec": {
   "display_name": "Python 3",
   "language": "python",
   "name": "python3"
  },
  "language_info": {
   "codemirror_mode": {
    "name": "ipython",
    "version": 3
   },
   "file_extension": ".py",
   "mimetype": "text/x-python",
   "name": "python",
   "nbconvert_exporter": "python",
   "pygments_lexer": "ipython3",
   "version": "3.7.4"
  }
 },
 "nbformat": 4,
 "nbformat_minor": 2
}

{
 "cells": [
  {
   "cell_type": "code",
   "execution_count": 9,
   "metadata": {},
   "outputs": [],
   "source": [
    "import pandas as pd\n",
    "import numpy as np\n",
    "import plotnine as p9\n",
    "import pyfpgrowth as fp\n",
    "\n",
    "import matplotlib.pyplot as plt\n",
    "%matplotlib inline\n",
    "\n",
    "import datetime\n",
    "import time"
   ]
  },
  {
   "cell_type": "code",
   "execution_count": 10,
   "metadata": {},
   "outputs": [],
   "source": [
    "# Reading JSON data into python as pandas dataframe.\n",
    "\n",
    "data = pd.read_json('/Users/abdulrehman/Desktop/usml/data/AMAZON_FASHION.json',lines=True)\n",
    "meta_data = pd.read_json('/Users/abdulrehman/Desktop/usml/data/meta_AMAZON_FASHION.json',lines=True)\n",
    "\n",
    "# print(data)\n",
    "# print(meta_data)"
   ]
  },
  {
   "cell_type": "code",
   "execution_count": 3,
   "metadata": {},
   "outputs": [],
   "source": [
    "# Converting unix time to Date format and storing it in reviewTime Column.\n",
    "\n",
    "data['reviewTime']=data.apply(lambda row: list(time.gmtime(row.unixReviewTime))[:-6], axis=1)\n",
    "data = data.sort_values('unixReviewTime')\n",
    "data['year']=data.apply(lambda row: row.reviewTime[0], axis=1)\n",
    "# print(data)"
   ]
  },
  {
   "cell_type": "code",
   "execution_count": null,
   "metadata": {},
   "outputs": [],
   "source": [
    "# Now we remove all customers who have made less than 5 transactions.\n",
    "# It is hard to learn behaviour of a customer with just one or two transactions hence removing the customers with less\n",
    "# transactions will help us learn better.\n",
    "\n",
    "byreviewer = data.groupby('reviewerID')\n",
    "byreviewer = byreviewer.filter(lambda x: len(x) > 4)\n",
    "# print(type(byreviewer))\n",
    "# print(byreviewer)"
   ]
  },
  {
   "cell_type": "code",
   "execution_count": null,
   "metadata": {},
   "outputs": [],
   "source": [
    "# Now we take this cleaned data and create a Useritem matrix with users in columns and items as columns\n",
    "# and fill it with each customer rating to the corresponding item column.\n",
    "\n",
    "reviewers = list(byreviewer.reviewerID.unique())\n",
    "# print(reviewers)\n",
    "itemratedf = pd.DataFrame(data={'reviewerID':reviewers})\n",
    "for index, row in byreviewer.iterrows():\n",
    "#     print(index)\n",
    "#     print(row['overall'])\n",
    "#     print(row['reviewerID'])\n",
    "#     print(row['asin'])\n",
    "    itemratedf.loc[itemratedf['reviewerID'] == row['reviewerID'], row['asin']] = row['overall']"
   ]
  },
  {
   "cell_type": "code",
   "execution_count": null,
   "metadata": {},
   "outputs": [],
   "source": [
    "# Saving the cleaned data frame and Useritem Matrix\n",
    "\n",
    "itemratedf.to_csv(r'/Users/abdulrehman/Desktop/usml/data/AMAZON_FASHION_user_itemset.csv', index = False)\n",
    "byreviewer.to_csv(r'/Users/abdulrehman/Desktop/usml/data/AMAZON_FASHION_clean.csv', index = False)"
   ]
  },
  {
   "cell_type": "code",
   "execution_count": 11,
   "metadata": {},
   "outputs": [],
   "source": [
    "# Now we will prepare data to make recommendations only based on reviews which have 4 or more ratings.\n",
    "# We will delete all the rows with overall ratings less than 4.\n",
    "# Then we remove all customers who have made less than 5 transactions.\n",
    "# It is hard to learn behaviour of a customer with just one or two transactions hence removing the customers with less\n",
    "# transactions will help us learn better.\n",
    "\n",
    "data.drop(data[ data['overall'] < 4 ].index , inplace=True)\n",
    "\n",
    "byreviewer = data.groupby('reviewerID')\n",
    "byreviewer = byreviewer.filter(lambda x: len(x) > 9)"
   ]
  },
  {
   "cell_type": "code",
   "execution_count": 14,
   "metadata": {},
   "outputs": [],
   "source": [
    "# Now we take this cleaned data and create a Useritem matrix with users in columns and items as columns\n",
    "# and fill it with each customer rating to the corresponding item column.\n",
    "\n",
    "reviewers = list(byreviewer.reviewerID.unique())\n",
    "itemratedf = pd.DataFrame(data={'reviewerID':reviewers})\n",
    "for index, row in byreviewer.iterrows():\n",
    "    itemratedf.loc[itemratedf['reviewerID'] == row['reviewerID'], row['asin']] = row['overall']"
   ]
  },
  {
   "cell_type": "code",
   "execution_count": 15,
   "metadata": {},
   "outputs": [],
   "source": [
    "# Saving the cleaned data frame and Useritem Matrix of Positive Reviews only dataset.\n",
    "\n",
    "itemratedf.to_csv(r'/Users/abdulrehman/Desktop/usml/data/AMAZON_FASHION_posonly_user_itemset.csv', index = False)\n",
    "byreviewer.to_csv(r'/Users/abdulrehman/Desktop/usml/data/AMAZON_FASHION_posonly_user_clean.csv', index = False)"
   ]
  },
  {
   "cell_type": "code",
   "execution_count": 17,
   "metadata": {},
   "outputs": [
    {
     "name": "stdout",
     "output_type": "stream",
     "text": [
      "         reviewerID  B000AO7PY0  B000EE1NNA  B000ER9V68  B000KPIHQ4  \\\n",
      "0    A2ZSX6R0TL8ET6         5.0         NaN         NaN         NaN   \n",
      "1     AAC2BU2V9X95K         NaN         5.0         NaN         NaN   \n",
      "2    A1FY4RR0LGCJ0Q         NaN         NaN         5.0         NaN   \n",
      "3    A1H2WJSALF3E9U         NaN         NaN         NaN         5.0   \n",
      "4    A2IQT5AFFXA1OM         NaN         NaN         NaN         NaN   \n",
      "..              ...         ...         ...         ...         ...   \n",
      "123   AOM2F0AJNYOHK         NaN         NaN         NaN         NaN   \n",
      "124  A3NX9YXUAR5VR4         NaN         NaN         NaN         NaN   \n",
      "125  A1TSKC7FB8KOMJ         NaN         NaN         NaN         NaN   \n",
      "126  A2IUGX6TDLNUJK         NaN         NaN         NaN         NaN   \n",
      "127   A65D30A5915H5         NaN         NaN         NaN         NaN   \n",
      "\n",
      "     B000NBIMG0  B000NGJ41W  B000V0IBDM  B000YFSR5G  B0014F8TIU  ...  \\\n",
      "0           NaN         NaN         NaN         NaN         NaN  ...   \n",
      "1           NaN         NaN         NaN         NaN         NaN  ...   \n",
      "2           NaN         NaN         NaN         NaN         NaN  ...   \n",
      "3           NaN         NaN         5.0         NaN         NaN  ...   \n",
      "4           5.0         NaN         NaN         NaN         NaN  ...   \n",
      "..          ...         ...         ...         ...         ...  ...   \n",
      "123         NaN         NaN         NaN         NaN         NaN  ...   \n",
      "124         NaN         NaN         NaN         NaN         NaN  ...   \n",
      "125         NaN         NaN         NaN         NaN         NaN  ...   \n",
      "126         NaN         NaN         NaN         NaN         NaN  ...   \n",
      "127         NaN         NaN         NaN         NaN         NaN  ...   \n",
      "\n",
      "     B01H5XMDMC  B01H62ODAM  B01H6Y2KDW  B01H88TUDO  B01HBACQXA  B01HC7565W  \\\n",
      "0           NaN         NaN         NaN         NaN         NaN         NaN   \n",
      "1           NaN         NaN         NaN         NaN         NaN         NaN   \n",
      "2           NaN         NaN         NaN         NaN         NaN         NaN   \n",
      "3           NaN         NaN         NaN         NaN         NaN         NaN   \n",
      "4           NaN         NaN         NaN         NaN         NaN         NaN   \n",
      "..          ...         ...         ...         ...         ...         ...   \n",
      "123         NaN         NaN         NaN         NaN         NaN         NaN   \n",
      "124         NaN         NaN         NaN         NaN         NaN         NaN   \n",
      "125         NaN         NaN         NaN         NaN         NaN         NaN   \n",
      "126         NaN         NaN         NaN         NaN         NaN         NaN   \n",
      "127         NaN         NaN         NaN         NaN         NaN         NaN   \n",
      "\n",
      "     B01HD09GLI  B01HEBZTI0  B01HGIDX5M  B01HI84VBA  \n",
      "0           NaN         NaN         NaN         NaN  \n",
      "1           NaN         NaN         NaN         NaN  \n",
      "2           NaN         NaN         NaN         NaN  \n",
      "3           NaN         NaN         NaN         NaN  \n",
      "4           NaN         NaN         NaN         NaN  \n",
      "..          ...         ...         ...         ...  \n",
      "123         NaN         NaN         NaN         NaN  \n",
      "124         NaN         NaN         NaN         NaN  \n",
      "125         NaN         NaN         NaN         NaN  \n",
      "126         NaN         NaN         NaN         NaN  \n",
      "127         NaN         NaN         NaN         NaN  \n",
      "\n",
      "[128 rows x 1383 columns]\n",
      "        overall  verified   reviewTime      reviewerID        asin  \\\n",
      "2759          5     False  03 30, 2013  A2ZSX6R0TL8ET6  B000AO7PY0   \n",
      "3368          5      True  07 22, 2016   AAC2BU2V9X95K  B000EE1NNA   \n",
      "4289          5      True  01 14, 2014  A1FY4RR0LGCJ0Q  B000ER9V68   \n",
      "12731         5      True   05 1, 2017  A1H2WJSALF3E9U  B000KPIHQ4   \n",
      "16417         5      True   07 6, 2017  A2IQT5AFFXA1OM  B000NBIMG0   \n",
      "...         ...       ...          ...             ...         ...   \n",
      "880514        5     False  07 31, 2016  A159IR0ZIDS388  B01HC7565W   \n",
      "880933        4     False  07 17, 2016   A80TXV9F8ORDA  B01HD09GLI   \n",
      "881541        4     False  07 25, 2016  A3TWPW6C78JPGV  B01HEBZTI0   \n",
      "882402        4     False  07 24, 2017  A1CG3CX6AADO0D  B01HGIDX5M   \n",
      "883234        4      True  08 22, 2016   AZD378NGJIDQH  B01HI84VBA   \n",
      "\n",
      "        reviewerName                                         reviewText  \\\n",
      "2759         michael  The GF likes these. She can ware them out of t...   \n",
      "3368              me                                      Happy with it   \n",
      "4289         ruby206  I usually wear size Large..I'm 5'9 150lb. I go...   \n",
      "12731         Papa T  These best Super Feet. I feel these are as com...   \n",
      "16417     Tina Diane                                            Perfect   \n",
      "...              ...                                                ...   \n",
      "880514   Pocketmouse  The dresses by this company are fabulously FUN...   \n",
      "880933  Faithsmommy2  <div id=\"video-block-R2NAYSMMDUL1CA\" class=\"a-...   \n",
      "881541     Replicant  For the times when you need to stow a spare ba...   \n",
      "882402    T...just T  Very nice set!! These nose rings looked great ...   \n",
      "883234            DK  I wound up ordering 3 of these... the sizing w...   \n",
      "\n",
      "                                                  summary  unixReviewTime  \\\n",
      "2759                                   The price was good      1364601600   \n",
      "3368                                           Five Stars      1469145600   \n",
      "4289                                           Super cute      1389657600   \n",
      "12731                                What is not to love.      1493596800   \n",
      "16417                                           Love them      1499299200   \n",
      "...                                                   ...             ...   \n",
      "880514  Wow do I love these dresses!  What a unique li...      1469923200   \n",
      "880933                                       Very pretty!      1468713600   \n",
      "881541   Similar to the famous Longchamps \"Le Pliage\" bag      1469404800   \n",
      "882402                                         Cool dude!      1500854400   \n",
      "883234  Its a beautiful dress. I'll be selling the sma...      1471824000   \n",
      "\n",
      "        vote                                              style  \\\n",
      "2759     NaN    {'Size:': ' One Size', 'Color:': ' Black/Pink'}   \n",
      "3368     NaN         {'Size:': ' Large', 'Color:': ' Blue/Red'}   \n",
      "4289     NaN          {'Size:': ' X-Large', 'Color:': ' Black'}   \n",
      "12731    NaN  {'Size Name:': ' Men's 12-13.5, Women's 14-15....   \n",
      "16417    NaN  {'Size:': ' 39/40 BR/9-10 M US', 'Color:': ' N...   \n",
      "...      ...                                                ...   \n",
      "880514   NaN              {'Size:': ' US_4', 'Color:': ' B002'}   \n",
      "880933   3.0                                                NaN   \n",
      "881541   NaN                                                NaN   \n",
      "882402   NaN                                                NaN   \n",
      "883234   NaN                                                NaN   \n",
      "\n",
      "                                                    image  \n",
      "2759                                                  NaN  \n",
      "3368                                                  NaN  \n",
      "4289                                                  NaN  \n",
      "12731                                                 NaN  \n",
      "16417                                                 NaN  \n",
      "...                                                   ...  \n",
      "880514  [https://images-na.ssl-images-amazon.com/image...  \n",
      "880933                                                NaN  \n",
      "881541                                                NaN  \n",
      "882402                                                NaN  \n",
      "883234                                                NaN  \n",
      "\n",
      "[1654 rows x 12 columns]\n"
     ]
    }
   ],
   "source": [
    "# We will now do EDA on the cleaned Data in EDA.ipynb"
   ]
  },
  {
   "cell_type": "code",
   "execution_count": null,
   "metadata": {},
   "outputs": [],
   "source": []
  }
 ],
 "metadata": {
  "kernelspec": {
   "display_name": "Python 3",
   "language": "python",
   "name": "python3"
  },
  "language_info": {
   "codemirror_mode": {
    "name": "ipython",
    "version": 3
   },
   "file_extension": ".py",
   "mimetype": "text/x-python",
   "name": "python",
   "nbconvert_exporter": "python",
   "pygments_lexer": "ipython3",
   "version": "3.7.4"
  }
 },
 "nbformat": 4,
 "nbformat_minor": 2
}

{
 "cells": [
  {
   "cell_type": "code",
   "execution_count": 2,
   "metadata": {},
   "outputs": [],
   "source": [
    "import pandas as pd\n",
    "import numpy as np\n",
    "import plotnine as p9\n",
    "import pyfpgrowth as fp\n",
    "\n",
    "import matplotlib.pyplot as plt\n",
    "%matplotlib inline\n",
    "\n",
    "import datetime\n",
    "import time"
   ]
  },
  {
   "cell_type": "code",
   "execution_count": 3,
   "metadata": {},
   "outputs": [],
   "source": [
    "# Reading JSON data into python as pandas dataframe.\n",
    "\n",
    "data = pd.read_json('/Users/abdulrehman/Desktop/usml/data/AMAZON_FASHION.json',lines=True)\n",
    "meta_data = pd.read_json('/Users/abdulrehman/Desktop/usml/data/meta_AMAZON_FASHION.json',lines=True)\n"
   ]
  },
  {
   "cell_type": "code",
   "execution_count": 4,
   "metadata": {},
   "outputs": [],
   "source": [
    "# Converting unix time to Date format and storing it in reviewTime Column.\n",
    "\n",
    "data['reviewTime']=data.apply(lambda row: list(time.gmtime(row.unixReviewTime))[:-6], axis=1)\n",
    "data = data.sort_values('unixReviewTime')\n",
    "data['year']=data.apply(lambda row: row.reviewTime[0], axis=1)\n"
   ]
  },
  {
   "cell_type": "markdown",
   "metadata": {},
   "source": [
    "## We will Make 2 different User item matrix.\n",
    "   ### 1. With items with overall rating of 5 and above.\n",
    "   ### 2. With all the items, including items with bad ratings."
   ]
  },
  {
   "cell_type": "markdown",
   "metadata": {},
   "source": [
    "### Method to create user itemsets."
   ]
  },
  {
   "cell_type": "code",
   "execution_count": 12,
   "metadata": {},
   "outputs": [],
   "source": [
    "def make_useritem_matrix(byreviewer):\n",
    "    reviewers = list(byreviewer.reviewerID.unique())\n",
    "    itemratedf = pd.DataFrame(data={'reviewerID':reviewers})\n",
    "    for index, row in byreviewer.iterrows():\n",
    "        itemratedf.loc[itemratedf['reviewerID'] == row['reviewerID'], row['asin']] = row['overall']\n",
    "    return itemratedf"
   ]
  },
  {
   "cell_type": "markdown",
   "metadata": {},
   "source": [
    "## 1. Creating data with items with overall rating of 5 and above."
   ]
  },
  {
   "cell_type": "code",
   "execution_count": 7,
   "metadata": {},
   "outputs": [],
   "source": [
    "# Now we will prepare data to make recommendations only based on reviews which have 4 or more ratings.\n",
    "# We will delete all the rows with overall ratings less than 4.\n",
    "# Then we remove all customers who have made less than 9 transactions.\n",
    "# It is hard to learn behaviour of a customer with just one or two transactions hence removing the customers with less\n",
    "# transactions will help us learn better.\n",
    "\n",
    "data.drop(data[ data['overall'] < 4 ].index , inplace=True)\n",
    "\n",
    "byreviewer = data.groupby('reviewerID')\n",
    "byreviewer = byreviewer.filter(lambda x: len(x) > 9)"
   ]
  },
  {
   "cell_type": "markdown",
   "metadata": {},
   "source": [
    "## Saving data and user itemset with items with overall rating of 5 and above."
   ]
  },
  {
   "cell_type": "code",
   "execution_count": 11,
   "metadata": {},
   "outputs": [],
   "source": [
    "itemratedf = make_useritem_matrix(byreviewer)\n",
    "itemratedf.to_csv(r'/Users/abdulrehman/Desktop/usml/data/AMAZON_FASHION_posonly_user_itemset.csv', index = False)\n",
    "byreviewer.to_csv(r'/Users/abdulrehman/Desktop/usml/data/AMAZON_FASHION_posonly_user_clean.csv', index = False)"
   ]
  },
  {
   "cell_type": "markdown",
   "metadata": {},
   "source": [
    "## 2. Creating data with all the items, including items with bad ratings."
   ]
  },
  {
   "cell_type": "code",
   "execution_count": 13,
   "metadata": {},
   "outputs": [],
   "source": [
    "data = pd.read_json('/Users/abdulrehman/Desktop/usml/data/AMAZON_FASHION.json',lines=True)\n",
    "\n",
    "# We remove all customers who have made less than 9 transactions.\n",
    "# It is hard to learn behaviour of a customer with just one or two transactions hence removing the customers with less\n",
    "# transactions will help us learn better.\n",
    "\n",
    "byreviewer = data.groupby('reviewerID')\n",
    "byreviewer = byreviewer.filter(lambda x: len(x) > 9)"
   ]
  },
  {
   "cell_type": "markdown",
   "metadata": {},
   "source": [
    "## Saving data and user itemset with items with all the items, including items with bad ratings."
   ]
  },
  {
   "cell_type": "code",
   "execution_count": 14,
   "metadata": {},
   "outputs": [],
   "source": [
    "itemratedf = make_useritem_matrix(byreviewer)\n",
    "itemratedf.to_csv(r'/Users/abdulrehman/Desktop/usml/data/AMAZON_FASHION_user_itemset.csv', index = False)\n",
    "byreviewer.to_csv(r'/Users/abdulrehman/Desktop/usml/data/AMAZON_FASHION_clean.csv', index = False)"
   ]
  },
  {
   "cell_type": "code",
   "execution_count": null,
   "metadata": {},
   "outputs": [],
   "source": [
    "# We will now do EDA on the cleaned Data in EDA.ipynb"
   ]
  }
 ],
 "metadata": {
  "kernelspec": {
   "display_name": "Python 3",
   "language": "python",
   "name": "python3"
  },
  "language_info": {
   "codemirror_mode": {
    "name": "ipython",
    "version": 3
   },
   "file_extension": ".py",
   "mimetype": "text/x-python",
   "name": "python",
   "nbconvert_exporter": "python",
   "pygments_lexer": "ipython3",
   "version": "3.7.4"
  }
 },
 "nbformat": 4,
 "nbformat_minor": 2
}
